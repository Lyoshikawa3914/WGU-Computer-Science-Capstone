{
 "cells": [
  {
   "cell_type": "code",
   "execution_count": 1,
   "id": "0559b422",
   "metadata": {},
   "outputs": [],
   "source": [
    "import tensorflow as tf\n",
    "import sys, os\n",
    "import cv2\n",
    "import matplotlib.pyplot as plt\n",
    "import numpy as np\n",
    "import imghdr\n",
    "import splitfolders\n",
    "from skimage.io import imread\n",
    "from skimage.transform import resize\n",
    "from sklearn.model_selection import GridSearchCV\n",
    "from sklearn.svm import SVC\n",
    "from sklearn.model_selection import train_test_split\n",
    "from PIL import ImageFile\n",
    "from PIL import Image\n",
    "import random\n",
    "ImageFile.LOAD_TRUNCATED_IMAGES = True\n",
    "\n",
    "from PyQt5.QtWidgets import QApplication, QWidget, QLabel, QVBoxLayout, QPushButton, QGridLayout, QHBoxLayout\n",
    "from PyQt5.QtCore import Qt\n",
    "from PyQt5.QtGui import QPixmap, QFont"
   ]
  },
  {
   "cell_type": "code",
   "execution_count": 2,
   "id": "5b5c81e4",
   "metadata": {},
   "outputs": [],
   "source": [
    "from tensorflow import keras\n",
    "import tensorflow\n",
    "import keras\n",
    "from tensorflow.keras.models import load_model\n",
    "\n",
    "new_model = load_model(os.path.join('models', 'happySadModel.h5'))"
   ]
  },
  {
   "cell_type": "code",
   "execution_count": 3,
   "id": "6246033c",
   "metadata": {},
   "outputs": [
    {
     "data": {
      "text/plain": [
       "<keras.engine.sequential.Sequential at 0x24a496dc6a0>"
      ]
     },
     "execution_count": 3,
     "metadata": {},
     "output_type": "execute_result"
    }
   ],
   "source": [
    "new_model"
   ]
  },
  {
   "cell_type": "code",
   "execution_count": 4,
   "id": "ced0b3ba",
   "metadata": {},
   "outputs": [
    {
     "name": "stdout",
     "output_type": "stream",
     "text": [
      "1/1 [==============================] - 0s 425ms/step\n"
     ]
    },
    {
     "data": {
      "text/plain": [
       "array([[0.99999976]], dtype=float32)"
      ]
     },
     "execution_count": 4,
     "metadata": {},
     "output_type": "execute_result"
    }
   ],
   "source": [
    "img = cv2.imread(\"C:\\\\Users\\\\lyosh\\\\OneDrive\\\\Desktop\\\\archive\\\\happyPersonTest.png\")\n",
    "resize = tf.image.resize(img, (256, 256))\n",
    "new_model.predict(np.expand_dims(resize/255, 0))"
   ]
  },
  {
   "cell_type": "code",
   "execution_count": 5,
   "id": "6a63da30",
   "metadata": {},
   "outputs": [],
   "source": [
    "def classification(images):\n",
    "    new_model = load_model(os.path.join('models', 'happySadModel.h5'))\n",
    "    img = cv2.imread(images)\n",
    "    resize = tf.image.resize(img, (256, 256))\n",
    "    return new_model.predict(np.expand_dims(resize/255, 0))"
   ]
  },
  {
   "cell_type": "code",
   "execution_count": 6,
   "id": "baf401d9",
   "metadata": {},
   "outputs": [
    {
     "name": "stdout",
     "output_type": "stream",
     "text": [
      "1/1 [==============================] - 0s 96ms/step\n",
      "it is happy\n",
      "1/1 [==============================] - 0s 79ms/step\n",
      "it is happy\n",
      "1/1 [==============================] - 0s 94ms/step\n",
      "it is happy\n"
     ]
    },
    {
     "ename": "SystemExit",
     "evalue": "0",
     "output_type": "error",
     "traceback": [
      "An exception has occurred, use %tb to see the full traceback.\n",
      "\u001b[1;31mSystemExit\u001b[0m\u001b[1;31m:\u001b[0m 0\n"
     ]
    },
    {
     "name": "stderr",
     "output_type": "stream",
     "text": [
      "C:\\Users\\lyosh\\anaconda3\\lib\\site-packages\\IPython\\core\\interactiveshell.py:3465: UserWarning: To exit: use 'exit', 'quit', or Ctrl-D.\n",
      "  warn(\"To exit: use 'exit', 'quit', or Ctrl-D.\", stacklevel=1)\n"
     ]
    }
   ],
   "source": [
    "class ImageLabel(QLabel):\n",
    "    def __init__(self):\n",
    "        super().__init__()\n",
    "\n",
    "        self.setAlignment(Qt.AlignCenter)\n",
    "        self.setFixedHeight(500)\n",
    "        self.setText('\\n\\n Drop Image Here \\n\\n')\n",
    "        self.setStyleSheet('''\n",
    "        QLabel {\n",
    "            border:4px dashed #aaa\n",
    "            }\n",
    "            ''')\n",
    "\n",
    "\n",
    "    def setPixmap(self, image):\n",
    "        super().setPixmap(image)\n",
    "\n",
    "class AppDemo(QWidget):\n",
    "    def __init__(self):\n",
    "        super().__init__()\n",
    "        self.resize(1000, 900)\n",
    "        self.setAcceptDrops(True)\n",
    "        self.photo = False\n",
    "\n",
    "        mainLayout = QVBoxLayout()\n",
    "\n",
    "        self.label = QLabel(\"This application will determine if the image is happy or sad. Please insert a jpeg image\")\n",
    "        self.label.setFont(QFont('Times font', 15))\n",
    "        mainLayout.addWidget(self.label)\n",
    "\n",
    "        self.photoViewer = ImageLabel()\n",
    "        mainLayout.addWidget(self.photoViewer)\n",
    "\n",
    "        self.buttons = QHBoxLayout()\n",
    "        \n",
    "        self.button2 = QPushButton(\"Clear\")\n",
    "        self.button2.clicked.connect(self.clearAction)\n",
    "        \n",
    "        self.exitButton = QPushButton(\"Exit\")\n",
    "        self.exitButton.clicked.connect(self.close)\n",
    "        \n",
    "        self.buttons.addWidget(self.button2)\n",
    "        self.buttons.addWidget(self.exitButton)\n",
    "        mainLayout.addLayout(self.buttons)\n",
    "\n",
    "        self.setLayout(mainLayout)\n",
    "\n",
    "    def dragEnterEvent(self, event):\n",
    "        if event.mimeData().hasImage:\n",
    "            event.accept()\n",
    "        else:\n",
    "            event.ignore()\n",
    "\n",
    "    def dragMoveEvent(self, event):\n",
    "        if event.mimeData().hasImage:\n",
    "            event.accept()\n",
    "        else:\n",
    "            event.ignore()\n",
    "\n",
    "    def dropEvent(self, event):\n",
    "        if event.mimeData().hasImage:\n",
    "            event.setDropAction(Qt.CopyAction)\n",
    "            filePath = event.mimeData().urls()[0].toLocalFile()\n",
    "            self.set_image(filePath)\n",
    "\n",
    "            event.accept()\n",
    "        else:\n",
    "            event.ignore()\n",
    "\n",
    "    def set_image(self, filePath):\n",
    "        self.photo = True\n",
    "        self.photoViewer.setPixmap(QPixmap(filePath))\n",
    "        \n",
    "        yhat = classification(filePath)\n",
    "        self.updateText(yhat)\n",
    "        \n",
    "        if yhat < 0.5:\n",
    "            print(\"it is happy\")\n",
    "        else:\n",
    "            print(\"it is sad\")\n",
    "    \n",
    "    def updateText(self, yhat):\n",
    "        if yhat < 0.5:\n",
    "            self.label.setText(\"This is a happy person\")\n",
    "            \n",
    "        else:\n",
    "            self.label.setText(\"This is a happy person\")\n",
    "            \n",
    "        \n",
    "    def clearAction(self):\n",
    "        if self.photo == True:\n",
    "            self.photoViewer.clear()\n",
    "            self.photo = False\n",
    "            self.label.setText(\"This application will determine if the image is happy or sad. Please insert a jpeg image\")\n",
    "        else:\n",
    "            print(\"false\")\n",
    "\n",
    "app = QApplication(sys.argv)\n",
    "\n",
    "demo = AppDemo()\n",
    "demo.show()\n",
    "sys.exit(app.exec())\n"
   ]
  },
  {
   "cell_type": "code",
   "execution_count": null,
   "id": "778012e5",
   "metadata": {},
   "outputs": [],
   "source": []
  }
 ],
 "metadata": {
  "kernelspec": {
   "display_name": "Python 3 (ipykernel)",
   "language": "python",
   "name": "python3"
  },
  "language_info": {
   "codemirror_mode": {
    "name": "ipython",
    "version": 3
   },
   "file_extension": ".py",
   "mimetype": "text/x-python",
   "name": "python",
   "nbconvert_exporter": "python",
   "pygments_lexer": "ipython3",
   "version": "3.9.13"
  }
 },
 "nbformat": 4,
 "nbformat_minor": 5
}
